{
  "nbformat": 4,
  "nbformat_minor": 0,
  "metadata": {
    "colab": {
      "name": "SpamDtector-Naive Byses",
      "provenance": [],
      "collapsed_sections": [],
      "include_colab_link": true
    },
    "kernelspec": {
      "display_name": "Python 3",
      "name": "python3"
    }
  },
  "cells": [
    {
      "cell_type": "markdown",
      "metadata": {
        "id": "view-in-github",
        "colab_type": "text"
      },
      "source": [
        "<a href=\"https://colab.research.google.com/github/zeglami/AI_Algorithms/blob/main/SpamDtector_Naive_Byses.ipynb\" target=\"_parent\"><img src=\"https://colab.research.google.com/assets/colab-badge.svg\" alt=\"Open In Colab\"/></a>"
      ]
    },
    {
      "cell_type": "code",
      "metadata": {
        "id": "GyU_JC3SLyNW"
      },
      "source": [
        "#Description spam detector "
      ],
      "execution_count": null,
      "outputs": []
    },
    {
      "cell_type": "code",
      "metadata": {
        "id": "XBQrbBbUMAaM"
      },
      "source": [
        "#import libraries\n",
        "import numpy as np\n",
        "import pandas as pd\n",
        "import nltk\n",
        "from nltk.corpus import stopwords\n",
        "import string "
      ],
      "execution_count": 19,
      "outputs": []
    },
    {
      "cell_type": "code",
      "metadata": {
        "id": "Q1G-GhHyMjM7",
        "colab": {
          "base_uri": "https://localhost:8080/"
        },
        "outputId": "f5ce0c20-b75b-4332-c3c0-7872e10fb95b"
      },
      "source": [
        "#Load data\n",
        "from google.colab import drive\n",
        "drive.mount(\"/content/drive\", force_remount=True)"
      ],
      "execution_count": 20,
      "outputs": [
        {
          "output_type": "stream",
          "text": [
            "Mounted at /content/drive\n"
          ],
          "name": "stdout"
        }
      ]
    },
    {
      "cell_type": "code",
      "metadata": {
        "id": "wIorB1IDNfkL",
        "colab": {
          "base_uri": "https://localhost:8080/",
          "height": 202
        },
        "outputId": "a4fb1a55-438a-497f-bfe4-0eebe20dff23"
      },
      "source": [
        "#Read csv files\n",
        "df=pd.read_csv('/content/drive/My Drive/DataSets/Emails/emails.csv')\n",
        "#Print the fisrt row\n",
        "df.head(5)"
      ],
      "execution_count": 21,
      "outputs": [
        {
          "output_type": "execute_result",
          "data": {
            "text/html": [
              "<div>\n",
              "<style scoped>\n",
              "    .dataframe tbody tr th:only-of-type {\n",
              "        vertical-align: middle;\n",
              "    }\n",
              "\n",
              "    .dataframe tbody tr th {\n",
              "        vertical-align: top;\n",
              "    }\n",
              "\n",
              "    .dataframe thead th {\n",
              "        text-align: right;\n",
              "    }\n",
              "</style>\n",
              "<table border=\"1\" class=\"dataframe\">\n",
              "  <thead>\n",
              "    <tr style=\"text-align: right;\">\n",
              "      <th></th>\n",
              "      <th>text</th>\n",
              "      <th>spam</th>\n",
              "    </tr>\n",
              "  </thead>\n",
              "  <tbody>\n",
              "    <tr>\n",
              "      <th>0</th>\n",
              "      <td>Subject: naturally irresistible your corporate...</td>\n",
              "      <td>1</td>\n",
              "    </tr>\n",
              "    <tr>\n",
              "      <th>1</th>\n",
              "      <td>Subject: the stock trading gunslinger  fanny i...</td>\n",
              "      <td>1</td>\n",
              "    </tr>\n",
              "    <tr>\n",
              "      <th>2</th>\n",
              "      <td>Subject: unbelievable new homes made easy  im ...</td>\n",
              "      <td>1</td>\n",
              "    </tr>\n",
              "    <tr>\n",
              "      <th>3</th>\n",
              "      <td>Subject: 4 color printing special  request add...</td>\n",
              "      <td>1</td>\n",
              "    </tr>\n",
              "    <tr>\n",
              "      <th>4</th>\n",
              "      <td>Subject: do not have money , get software cds ...</td>\n",
              "      <td>1</td>\n",
              "    </tr>\n",
              "  </tbody>\n",
              "</table>\n",
              "</div>"
            ],
            "text/plain": [
              "                                                text  spam\n",
              "0  Subject: naturally irresistible your corporate...     1\n",
              "1  Subject: the stock trading gunslinger  fanny i...     1\n",
              "2  Subject: unbelievable new homes made easy  im ...     1\n",
              "3  Subject: 4 color printing special  request add...     1\n",
              "4  Subject: do not have money , get software cds ...     1"
            ]
          },
          "metadata": {
            "tags": []
          },
          "execution_count": 21
        }
      ]
    },
    {
      "cell_type": "code",
      "metadata": {
        "id": "zXpWEdXFQyPZ",
        "colab": {
          "base_uri": "https://localhost:8080/"
        },
        "outputId": "a03ca610-19e8-4b25-dcab-36cf28585419"
      },
      "source": [
        "#print the shap(nb of columns and rows)\n",
        "df.shape"
      ],
      "execution_count": null,
      "outputs": [
        {
          "output_type": "execute_result",
          "data": {
            "text/plain": [
              "(5728, 2)"
            ]
          },
          "metadata": {
            "tags": []
          },
          "execution_count": 5
        }
      ]
    },
    {
      "cell_type": "code",
      "metadata": {
        "id": "wqjujYxpRHn5",
        "colab": {
          "base_uri": "https://localhost:8080/"
        },
        "outputId": "a1658248-8901-49c4-f6d4-7186acac5c23"
      },
      "source": [
        "#get  the columns names\n",
        "df.columns\n"
      ],
      "execution_count": null,
      "outputs": [
        {
          "output_type": "execute_result",
          "data": {
            "text/plain": [
              "Index(['text', 'spam'], dtype='object')"
            ]
          },
          "metadata": {
            "tags": []
          },
          "execution_count": 6
        }
      ]
    },
    {
      "cell_type": "code",
      "metadata": {
        "id": "WsU4QgBkRa0G"
      },
      "source": [
        "#Check of duplicates and remove them\n",
        "df.drop_duplicates(inplace=True)"
      ],
      "execution_count": null,
      "outputs": []
    },
    {
      "cell_type": "code",
      "metadata": {
        "id": "VBfDySerR03l",
        "colab": {
          "base_uri": "https://localhost:8080/"
        },
        "outputId": "ca54d609-ff07-4d47-a75c-423152153df5"
      },
      "source": [
        "#Show the new shape (nb of columns and rows)\n",
        "df.shape"
      ],
      "execution_count": null,
      "outputs": [
        {
          "output_type": "execute_result",
          "data": {
            "text/plain": [
              "(5695, 2)"
            ]
          },
          "metadata": {
            "tags": []
          },
          "execution_count": 8
        }
      ]
    },
    {
      "cell_type": "code",
      "metadata": {
        "id": "nLLhemZmTm8k"
      },
      "source": [
        "#show the number of missing(NaN,NAN,na) data for each column\n",
        "df.isnull().sum()\n"
      ],
      "execution_count": null,
      "outputs": []
    },
    {
      "cell_type": "code",
      "metadata": {
        "id": "R0Ohs56wgJcQ",
        "colab": {
          "base_uri": "https://localhost:8080/",
          "height": 329
        },
        "outputId": "772690fa-66ea-488e-8d0f-cd19ac32edcc"
      },
      "source": [
        "#download the stopwords package\n",
        "nltk.download('stopwords')"
      ],
      "execution_count": 22,
      "outputs": [
        {
          "output_type": "error",
          "ename": "AttributeError",
          "evalue": "ignored",
          "traceback": [
            "\u001b[0;31m---------------------------------------------------------------------------\u001b[0m",
            "\u001b[0;31mAttributeError\u001b[0m                            Traceback (most recent call last)",
            "\u001b[0;32m<ipython-input-22-22607094b9ef>\u001b[0m in \u001b[0;36m<module>\u001b[0;34m()\u001b[0m\n\u001b[1;32m      1\u001b[0m \u001b[0;31m#download the stopwords package\u001b[0m\u001b[0;34m\u001b[0m\u001b[0;34m\u001b[0m\u001b[0;34m\u001b[0m\u001b[0m\n\u001b[0;32m----> 2\u001b[0;31m \u001b[0mnltk\u001b[0m\u001b[0;34m.\u001b[0m\u001b[0mdownload\u001b[0m\u001b[0;34m(\u001b[0m\u001b[0;34m'stopwords'\u001b[0m\u001b[0;34m)\u001b[0m\u001b[0;34m\u001b[0m\u001b[0;34m\u001b[0m\u001b[0m\n\u001b[0m",
            "\u001b[0;32m/usr/local/lib/python3.6/dist-packages/nltk/downloader.py\u001b[0m in \u001b[0;36mdownload\u001b[0;34m(self, info_or_id, download_dir, quiet, force, prefix, halt_on_error, raise_on_error)\u001b[0m\n\u001b[1;32m    668\u001b[0m                                     subsequent_indent=prefix+prefix2+' '*4))\n\u001b[1;32m    669\u001b[0m \u001b[0;34m\u001b[0m\u001b[0m\n\u001b[0;32m--> 670\u001b[0;31m             \u001b[0;32mfor\u001b[0m \u001b[0mmsg\u001b[0m \u001b[0;32min\u001b[0m \u001b[0mself\u001b[0m\u001b[0;34m.\u001b[0m\u001b[0mincr_download\u001b[0m\u001b[0;34m(\u001b[0m\u001b[0minfo_or_id\u001b[0m\u001b[0;34m,\u001b[0m \u001b[0mdownload_dir\u001b[0m\u001b[0;34m,\u001b[0m \u001b[0mforce\u001b[0m\u001b[0;34m)\u001b[0m\u001b[0;34m:\u001b[0m\u001b[0;34m\u001b[0m\u001b[0;34m\u001b[0m\u001b[0m\n\u001b[0m\u001b[1;32m    671\u001b[0m                 \u001b[0;31m# Error messages\u001b[0m\u001b[0;34m\u001b[0m\u001b[0;34m\u001b[0m\u001b[0;34m\u001b[0m\u001b[0m\n\u001b[1;32m    672\u001b[0m                 \u001b[0;32mif\u001b[0m \u001b[0misinstance\u001b[0m\u001b[0;34m(\u001b[0m\u001b[0mmsg\u001b[0m\u001b[0;34m,\u001b[0m \u001b[0mErrorMessage\u001b[0m\u001b[0;34m)\u001b[0m\u001b[0;34m:\u001b[0m\u001b[0;34m\u001b[0m\u001b[0;34m\u001b[0m\u001b[0m\n",
            "\u001b[0;32m/usr/local/lib/python3.6/dist-packages/nltk/downloader.py\u001b[0m in \u001b[0;36mincr_download\u001b[0;34m(self, info_or_id, download_dir, force)\u001b[0m\n\u001b[1;32m    538\u001b[0m \u001b[0;34m\u001b[0m\u001b[0m\n\u001b[1;32m    539\u001b[0m         \u001b[0;31m# Look up the requested collection or package.\u001b[0m\u001b[0;34m\u001b[0m\u001b[0;34m\u001b[0m\u001b[0;34m\u001b[0m\u001b[0m\n\u001b[0;32m--> 540\u001b[0;31m         \u001b[0;32mtry\u001b[0m\u001b[0;34m:\u001b[0m \u001b[0minfo\u001b[0m \u001b[0;34m=\u001b[0m \u001b[0mself\u001b[0m\u001b[0;34m.\u001b[0m\u001b[0m_info_or_id\u001b[0m\u001b[0;34m(\u001b[0m\u001b[0minfo_or_id\u001b[0m\u001b[0;34m)\u001b[0m\u001b[0;34m\u001b[0m\u001b[0;34m\u001b[0m\u001b[0m\n\u001b[0m\u001b[1;32m    541\u001b[0m         \u001b[0;32mexcept\u001b[0m \u001b[0;34m(\u001b[0m\u001b[0mIOError\u001b[0m\u001b[0;34m,\u001b[0m \u001b[0mValueError\u001b[0m\u001b[0;34m)\u001b[0m \u001b[0;32mas\u001b[0m \u001b[0me\u001b[0m\u001b[0;34m:\u001b[0m\u001b[0;34m\u001b[0m\u001b[0;34m\u001b[0m\u001b[0m\n\u001b[1;32m    542\u001b[0m             yield ErrorMessage(None, 'Error loading %s: %s' %\n",
            "\u001b[0;32m/usr/local/lib/python3.6/dist-packages/nltk/downloader.py\u001b[0m in \u001b[0;36m_info_or_id\u001b[0;34m(self, info_or_id)\u001b[0m\n\u001b[1;32m    512\u001b[0m     \u001b[0;32mdef\u001b[0m \u001b[0m_info_or_id\u001b[0m\u001b[0;34m(\u001b[0m\u001b[0mself\u001b[0m\u001b[0;34m,\u001b[0m \u001b[0minfo_or_id\u001b[0m\u001b[0;34m)\u001b[0m\u001b[0;34m:\u001b[0m\u001b[0;34m\u001b[0m\u001b[0;34m\u001b[0m\u001b[0m\n\u001b[1;32m    513\u001b[0m         \u001b[0;32mif\u001b[0m \u001b[0misinstance\u001b[0m\u001b[0;34m(\u001b[0m\u001b[0minfo_or_id\u001b[0m\u001b[0;34m,\u001b[0m \u001b[0mstring_types\u001b[0m\u001b[0;34m)\u001b[0m\u001b[0;34m:\u001b[0m\u001b[0;34m\u001b[0m\u001b[0;34m\u001b[0m\u001b[0m\n\u001b[0;32m--> 514\u001b[0;31m             \u001b[0;32mreturn\u001b[0m \u001b[0mself\u001b[0m\u001b[0;34m.\u001b[0m\u001b[0minfo\u001b[0m\u001b[0;34m(\u001b[0m\u001b[0minfo_or_id\u001b[0m\u001b[0;34m)\u001b[0m\u001b[0;34m\u001b[0m\u001b[0;34m\u001b[0m\u001b[0m\n\u001b[0m\u001b[1;32m    515\u001b[0m         \u001b[0;32melse\u001b[0m\u001b[0;34m:\u001b[0m\u001b[0;34m\u001b[0m\u001b[0;34m\u001b[0m\u001b[0m\n\u001b[1;32m    516\u001b[0m             \u001b[0;32mreturn\u001b[0m \u001b[0minfo_or_id\u001b[0m\u001b[0;34m\u001b[0m\u001b[0;34m\u001b[0m\u001b[0m\n",
            "\u001b[0;32m/usr/local/lib/python3.6/dist-packages/nltk/downloader.py\u001b[0m in \u001b[0;36minfo\u001b[0;34m(self, id)\u001b[0m\n\u001b[1;32m    881\u001b[0m         \"\"\"Return the ``Package`` or ``Collection`` record for the\n\u001b[1;32m    882\u001b[0m            given item.\"\"\"\n\u001b[0;32m--> 883\u001b[0;31m         \u001b[0mself\u001b[0m\u001b[0;34m.\u001b[0m\u001b[0m_update_index\u001b[0m\u001b[0;34m(\u001b[0m\u001b[0;34m)\u001b[0m\u001b[0;34m\u001b[0m\u001b[0;34m\u001b[0m\u001b[0m\n\u001b[0m\u001b[1;32m    884\u001b[0m         \u001b[0;32mif\u001b[0m \u001b[0mid\u001b[0m \u001b[0;32min\u001b[0m \u001b[0mself\u001b[0m\u001b[0;34m.\u001b[0m\u001b[0m_packages\u001b[0m\u001b[0;34m:\u001b[0m \u001b[0;32mreturn\u001b[0m \u001b[0mself\u001b[0m\u001b[0;34m.\u001b[0m\u001b[0m_packages\u001b[0m\u001b[0;34m[\u001b[0m\u001b[0mid\u001b[0m\u001b[0;34m]\u001b[0m\u001b[0;34m\u001b[0m\u001b[0;34m\u001b[0m\u001b[0m\n\u001b[1;32m    885\u001b[0m         \u001b[0;32mif\u001b[0m \u001b[0mid\u001b[0m \u001b[0;32min\u001b[0m \u001b[0mself\u001b[0m\u001b[0;34m.\u001b[0m\u001b[0m_collections\u001b[0m\u001b[0;34m:\u001b[0m \u001b[0;32mreturn\u001b[0m \u001b[0mself\u001b[0m\u001b[0;34m.\u001b[0m\u001b[0m_collections\u001b[0m\u001b[0;34m[\u001b[0m\u001b[0mid\u001b[0m\u001b[0;34m]\u001b[0m\u001b[0;34m\u001b[0m\u001b[0;34m\u001b[0m\u001b[0m\n",
            "\u001b[0;32m/usr/local/lib/python3.6/dist-packages/nltk/downloader.py\u001b[0m in \u001b[0;36m_update_index\u001b[0;34m(self, url)\u001b[0m\n\u001b[1;32m    828\u001b[0m \u001b[0;34m\u001b[0m\u001b[0m\n\u001b[1;32m    829\u001b[0m         \u001b[0;31m# Download the index file.\u001b[0m\u001b[0;34m\u001b[0m\u001b[0;34m\u001b[0m\u001b[0;34m\u001b[0m\u001b[0m\n\u001b[0;32m--> 830\u001b[0;31m         self._index = nltk.internals.ElementWrapper(\n\u001b[0m\u001b[1;32m    831\u001b[0m             ElementTree.parse(urlopen(self._url)).getroot())\n\u001b[1;32m    832\u001b[0m         \u001b[0mself\u001b[0m\u001b[0;34m.\u001b[0m\u001b[0m_index_timestamp\u001b[0m \u001b[0;34m=\u001b[0m \u001b[0mtime\u001b[0m\u001b[0;34m.\u001b[0m\u001b[0mtime\u001b[0m\u001b[0;34m(\u001b[0m\u001b[0;34m)\u001b[0m\u001b[0;34m\u001b[0m\u001b[0;34m\u001b[0m\u001b[0m\n",
            "\u001b[0;31mAttributeError\u001b[0m: module 'nltk' has no attribute 'internals'"
          ]
        }
      ]
    },
    {
      "cell_type": "code",
      "metadata": {
        "id": "2gA8JvZIhwhe"
      },
      "source": [
        "def process_text(text):\n",
        "  #1 remove ponctuation\n",
        "  #2 remove stopwords\n",
        "  #3 return a list of clean words\n",
        "\n",
        "  #1\n",
        "  nopunc=[char for char in text if char not in string.punctuation ]\n",
        "  nopunc=''.join(nopunc)\n",
        "  #2\n",
        "  clean_words = [word for word in nopunc.split() if word.lower() not in stopwords.words('english')]\n",
        "  #3\n",
        "  return clean_words\n"
      ],
      "execution_count": null,
      "outputs": []
    },
    {
      "cell_type": "code",
      "metadata": {
        "id": "VyQg66hKowcu",
        "colab": {
          "base_uri": "https://localhost:8080/"
        },
        "outputId": "4bce68b0-5f97-4273-a40c-6351ff194d4c"
      },
      "source": [
        "#Show the tokenization(a list of tokens also lemmas)\n",
        "df['text'].head().apply(process_text)"
      ],
      "execution_count": null,
      "outputs": [
        {
          "output_type": "execute_result",
          "data": {
            "text/plain": [
              "0    [Subject, naturally, irresistible, corporate, ...\n",
              "1    [Subject, stock, trading, gunslinger, fanny, m...\n",
              "2    [Subject, unbelievable, new, homes, made, easy...\n",
              "3    [Subject, 4, color, printing, special, request...\n",
              "4    [Subject, money, get, software, cds, software,...\n",
              "Name: text, dtype: object"
            ]
          },
          "metadata": {
            "tags": []
          },
          "execution_count": 12
        }
      ]
    },
    {
      "cell_type": "code",
      "metadata": {
        "id": "VGrM8BGEcAyo"
      },
      "source": [
        "    def fit_transform1(self, raw_documents, y=None):\n",
        "        \"\"\"Learn the vocabulary dictionary and return document-term matrix.\n",
        "        This is equivalent to fit followed by transform, but more efficiently\n",
        "        implemented.\n",
        "        Parameters\n",
        "        ----------\n",
        "        raw_documents : iterable\n",
        "            An iterable which yields either str, unicode or file objects.\n",
        "        Returns\n",
        "        -------\n",
        "        X : array of shape (n_samples, n_features)\n",
        "            Document-term matrix.\n",
        "        \"\"\"\n",
        "        # We intentionally don't call the transform method to make\n",
        "        # fit_transform overridable without unwanted side effects in\n",
        "        # TfidfVectorizer.\n",
        "        if isinstance(raw_documents, str):\n",
        "            raise ValueError(\n",
        "                \"Iterable over raw text documents expected, \"\n",
        "                \"string object received.\")\n",
        "\n",
        "        self._validate_params()\n",
        "        self._validate_vocabulary()\n",
        "        max_df = self.max_df\n",
        "        min_df = self.min_df\n",
        "        max_features = self.max_features\n",
        "\n",
        "        vocabulary, X = self._count_vocab(raw_documents,\n",
        "                                          self.fixed_vocabulary_)\n",
        "\n",
        "        if self.binary:\n",
        "            X.data.fill(1)\n",
        "\n",
        "        if not self.fixed_vocabulary_:\n",
        "            n_doc = X.shape[0]\n",
        "            max_doc_count = (max_df\n",
        "                             if isinstance(max_df, numbers.Integral)\n",
        "                             else max_df * n_doc)\n",
        "            min_doc_count = (min_df\n",
        "                             if isinstance(min_df, numbers.Integral)\n",
        "                             else min_df * n_doc)\n",
        "            if max_doc_count < min_doc_count:\n",
        "                raise ValueError(\n",
        "                    \"max_df corresponds to < documents than min_df\")\n",
        "            if max_features is not None:\n",
        "                X = self._sort_features(X, vocabulary)\n",
        "            X, self.stop_words_ = self._limit_features(X, vocabulary,\n",
        "                                                       max_doc_count,\n",
        "                                                       min_doc_count,\n",
        "                                                       max_features)\n",
        "            if max_features is None:\n",
        "                X = self._sort_features(X, vocabulary)\n",
        "            self.vocabulary_ = vocabulary\n",
        "\n",
        "        return X"
      ],
      "execution_count": null,
      "outputs": []
    },
    {
      "cell_type": "code",
      "metadata": {
        "id": "kTxcXVm_wteE",
        "colab": {
          "base_uri": "https://localhost:8080/"
        },
        "outputId": "66dab66e-62e5-42e2-8749-2464ef73602a"
      },
      "source": [
        "#Example\n",
        "message4='hello world hello  hello world play'\n",
        "message5='test test test test one  hello'\n",
        "\n",
        "#Convert the text to a matrix of token counts\n",
        "from sklearn.feature_extraction.text import CountVectorizer \n",
        "bow4=CountVectorizer(analyzer=process_text).fit_transform([[message4],[message5]])\n",
        "print(\"bow4\")\n",
        "print(bow4)\n",
        "print(\"bow4.shape\")\n",
        "print(bow4.shape)"
      ],
      "execution_count": null,
      "outputs": [
        {
          "output_type": "stream",
          "text": [
            "bow4\n",
            "  (0, 0)\t3\n",
            "  (0, 4)\t2\n",
            "  (0, 2)\t1\n",
            "  (1, 0)\t1\n",
            "  (1, 3)\t4\n",
            "  (1, 1)\t1\n",
            "bow4.shape\n",
            "(2, 5)\n"
          ],
          "name": "stdout"
        }
      ]
    },
    {
      "cell_type": "code",
      "metadata": {
        "id": "Z5U2kIWQDjuF"
      },
      "source": [
        "def custom_fit(data):\n",
        "  unique_words=set()\n",
        "  for each_sentence in data:\n",
        "    for each_word in each_sentence.split(' '):\n",
        "      if len(each_word)>2:\n",
        "        unique_words.add(each_word)\n",
        "  \n",
        "  vocab={}\n",
        "  for index,word in enumerate(sorted(list(unique_words))):\n",
        "    vocab[word]=index\n",
        "  return vocab"
      ],
      "execution_count": null,
      "outputs": []
    },
    {
      "cell_type": "code",
      "metadata": {
        "id": "p_1dzZYDDt6S",
        "colab": {
          "base_uri": "https://localhost:8080/"
        },
        "outputId": "3c18800b-0b1a-4ba3-acf2-a9ad6ac5d591"
      },
      "source": [
        "from collections import Counter\n",
        "from scipy.sparse import csr_matrix\n",
        "def custom_transform(data):\n",
        "  vocab=custom_fit(data)\n",
        "  row,col,val=[],[],[]\n",
        "  for idx,sentence in enumerate(data):\n",
        "    count_word=dict(Counter(sentence.split(' ')))\n",
        "    for word,count in count_word.items():\n",
        "      col_index=vocab.get(word)\n",
        "      if len(word) >=2:\n",
        "        col_index=vocab.get(word)\n",
        "        if col_index is None :\n",
        "          pass\n",
        "        elif col_index >=0 :\n",
        "          row.append(idx)\n",
        "          col.append(col_index)\n",
        "          val.append(count)\n",
        "        \n",
        "      \n",
        "  return csr_matrix((val,(row,col)),shape=(len(data),len(vocab)))\n",
        "message_bow1=custom_transform(df['text'])\n",
        "print(custom_transform(df['text']))"
      ],
      "execution_count": null,
      "outputs": [
        {
          "output_type": "stream",
          "text": [
            "  (0, 332)\t1\n",
            "  (0, 3536)\t1\n",
            "  (0, 4126)\t1\n",
            "  (0, 4260)\t1\n",
            "  (0, 4431)\t1\n",
            "  (0, 4668)\t1\n",
            "  (0, 4747)\t5\n",
            "  (0, 5183)\t1\n",
            "  (0, 5682)\t1\n",
            "  (0, 6201)\t2\n",
            "  (0, 6335)\t1\n",
            "  (0, 7055)\t1\n",
            "  (0, 7293)\t1\n",
            "  (0, 7425)\t2\n",
            "  (0, 7442)\t2\n",
            "  (0, 7935)\t1\n",
            "  (0, 8220)\t1\n",
            "  (0, 8223)\t1\n",
            "  (0, 8538)\t1\n",
            "  (0, 8711)\t1\n",
            "  (0, 8955)\t1\n",
            "  (0, 9165)\t3\n",
            "  (0, 9690)\t2\n",
            "  (0, 9784)\t1\n",
            "  (0, 9933)\t1\n",
            "  :\t:\n",
            "  (5694, 33136)\t1\n",
            "  (5694, 33195)\t1\n",
            "  (5694, 33387)\t2\n",
            "  (5694, 33467)\t2\n",
            "  (5694, 33470)\t1\n",
            "  (5694, 33541)\t1\n",
            "  (5694, 33694)\t1\n",
            "  (5694, 34010)\t1\n",
            "  (5694, 34374)\t1\n",
            "  (5694, 34541)\t3\n",
            "  (5694, 34542)\t1\n",
            "  (5694, 34627)\t2\n",
            "  (5694, 34636)\t2\n",
            "  (5694, 34973)\t4\n",
            "  (5694, 35065)\t1\n",
            "  (5694, 35165)\t1\n",
            "  (5694, 35469)\t1\n",
            "  (5694, 35594)\t1\n",
            "  (5694, 35718)\t1\n",
            "  (5694, 35745)\t1\n",
            "  (5694, 35755)\t1\n",
            "  (5694, 35998)\t1\n",
            "  (5694, 36274)\t2\n",
            "  (5694, 36431)\t1\n",
            "  (5694, 36490)\t1\n"
          ],
          "name": "stdout"
        }
      ]
    },
    {
      "cell_type": "code",
      "metadata": {
        "id": "iI5KbaeN1wol",
        "colab": {
          "base_uri": "https://localhost:8080/"
        },
        "outputId": "caa1b822-90d8-4e40-f9a6-ccabb2aa2d4e"
      },
      "source": [
        "#Convert a collection of text to matrix of tokens\n",
        "from sklearn.feature_extraction.text import CountVectorizer \n",
        "message_bow=CountVectorizer(analyzer=process_text).fit_transform(df['text'])\n",
        "print(message_bow)"
      ],
      "execution_count": null,
      "outputs": [
        {
          "output_type": "stream",
          "text": [
            "  (0, 3638)\t1\n",
            "  (0, 23369)\t1\n",
            "  (0, 18841)\t1\n",
            "  (0, 10065)\t1\n",
            "  (0, 17696)\t1\n",
            "  (0, 21140)\t1\n",
            "  (0, 27986)\t1\n",
            "  (0, 16674)\t1\n",
            "  (0, 28110)\t1\n",
            "  (0, 9296)\t3\n",
            "  (0, 21654)\t2\n",
            "  (0, 15429)\t1\n",
            "  (0, 32602)\t1\n",
            "  (0, 18238)\t1\n",
            "  (0, 18886)\t1\n",
            "  (0, 16089)\t2\n",
            "  (0, 8054)\t1\n",
            "  (0, 20952)\t3\n",
            "  (0, 32319)\t1\n",
            "  (0, 31968)\t1\n",
            "  (0, 24838)\t1\n",
            "  (0, 36025)\t2\n",
            "  (0, 21431)\t2\n",
            "  (0, 33037)\t1\n",
            "  (0, 23040)\t2\n",
            "  :\t:\n",
            "  (5694, 24818)\t2\n",
            "  (5694, 21624)\t1\n",
            "  (5694, 5729)\t9\n",
            "  (5694, 30934)\t1\n",
            "  (5694, 2828)\t3\n",
            "  (5694, 13338)\t1\n",
            "  (5694, 13127)\t1\n",
            "  (5694, 17388)\t1\n",
            "  (5694, 14130)\t1\n",
            "  (5694, 20273)\t1\n",
            "  (5694, 31827)\t1\n",
            "  (5694, 13128)\t1\n",
            "  (5694, 20467)\t1\n",
            "  (5694, 35288)\t1\n",
            "  (5694, 8629)\t1\n",
            "  (5694, 30082)\t1\n",
            "  (5694, 13522)\t5\n",
            "  (5694, 36185)\t1\n",
            "  (5694, 959)\t2\n",
            "  (5694, 2797)\t1\n",
            "  (5694, 30287)\t1\n",
            "  (5694, 17590)\t1\n",
            "  (5694, 33923)\t1\n",
            "  (5694, 10373)\t1\n",
            "  (5694, 11386)\t1\n"
          ],
          "name": "stdout"
        }
      ]
    },
    {
      "cell_type": "code",
      "metadata": {
        "id": "XzcdGHbx3HgU"
      },
      "source": [
        "#split the data into 80% training and 20% testing\n",
        "from sklearn.model_selection import train_test_split\n",
        "X_train,X_test,y_train,y_test=train_test_split(message_bow1,df['spam'],test_size=0.20,random_state=0)\n"
      ],
      "execution_count": null,
      "outputs": []
    },
    {
      "cell_type": "code",
      "metadata": {
        "id": "BpjJyZCj40c6",
        "colab": {
          "base_uri": "https://localhost:8080/"
        },
        "outputId": "b4b0da48-9703-4e9d-ed3f-45669f314d4c"
      },
      "source": [
        "#get the shape of the date\n",
        "message_bow1.shape"
      ],
      "execution_count": null,
      "outputs": [
        {
          "output_type": "execute_result",
          "data": {
            "text/plain": [
              "(5695, 36767)"
            ]
          },
          "metadata": {
            "tags": []
          },
          "execution_count": 23
        }
      ]
    },
    {
      "cell_type": "code",
      "metadata": {
        "id": "9tIFd12I6-Mw"
      },
      "source": [
        "#Create and train the Naive Bayes Classifier\n",
        "from sklearn.naive_bayes import MultinomialNB\n",
        "classifier=MultinomialNB().fit(X_train,y_train)"
      ],
      "execution_count": null,
      "outputs": []
    },
    {
      "cell_type": "code",
      "metadata": {
        "id": "XQPKeZbmFxHg",
        "colab": {
          "base_uri": "https://localhost:8080/"
        },
        "outputId": "77fbcc54-1fb2-4db0-a8b8-497f14859445"
      },
      "source": [
        "#Print the pedictions\n",
        "print(classifier.predict(X_train))\n",
        "#Print the actual values\n",
        "print(y_train.values)\n"
      ],
      "execution_count": null,
      "outputs": [
        {
          "output_type": "stream",
          "text": [
            "[0 0 0 ... 0 0 0]\n",
            "[0 0 0 ... 0 0 0]\n"
          ],
          "name": "stdout"
        }
      ]
    },
    {
      "cell_type": "code",
      "metadata": {
        "id": "1Fz9G6vzJf2N",
        "colab": {
          "base_uri": "https://localhost:8080/"
        },
        "outputId": "b9cf83e6-12b7-40ae-8911-5a62292ca5e7"
      },
      "source": [
        "#Evalute the model on the training data set\n",
        "from sklearn.metrics import classification_report,confusion_matrix,accuracy_score\n",
        "pred=classifier.predict(X_train)\n",
        "print(classification_report(y_train,pred))\n",
        "print()\n",
        "print('Confusion matrix: \\n',confusion_matrix(y_train,pred))\n",
        "print()\n",
        "print('Accuracy:',accuracy_score(y_train,pred))"
      ],
      "execution_count": null,
      "outputs": [
        {
          "output_type": "stream",
          "text": [
            "              precision    recall  f1-score   support\n",
            "\n",
            "           0       1.00      1.00      1.00      3457\n",
            "           1       0.99      1.00      0.99      1099\n",
            "\n",
            "    accuracy                           1.00      4556\n",
            "   macro avg       0.99      1.00      0.99      4556\n",
            "weighted avg       1.00      1.00      1.00      4556\n",
            "\n",
            "\n",
            "Confusion matrix: \n",
            " [[3442   15]\n",
            " [   2 1097]]\n",
            "\n",
            "Accuracy: 0.996268656716418\n"
          ],
          "name": "stdout"
        }
      ]
    },
    {
      "cell_type": "code",
      "metadata": {
        "id": "h-IZUOfpPZIi",
        "colab": {
          "base_uri": "https://localhost:8080/"
        },
        "outputId": "1aadf4d4-f101-4835-c12f-2881a19bb300"
      },
      "source": [
        "#Print the pedictions\n",
        "print(classifier.predict(X_test))\n",
        "#Print the actual values\n",
        "print(y_test.values)"
      ],
      "execution_count": null,
      "outputs": [
        {
          "output_type": "stream",
          "text": [
            "[1 0 0 ... 0 0 0]\n",
            "[1 0 0 ... 0 0 0]\n"
          ],
          "name": "stdout"
        }
      ]
    },
    {
      "cell_type": "code",
      "metadata": {
        "id": "qQrYxzosPt6x",
        "colab": {
          "base_uri": "https://localhost:8080/"
        },
        "outputId": "106de1a1-fefa-4fd2-ceb4-f3b367526d40"
      },
      "source": [
        "#Evalute the model on the test data set\n",
        "from sklearn.metrics import classification_report,confusion_matrix,accuracy_score\n",
        "pred=classifier.predict(X_test)\n",
        "print(classification_report(y_test,pred))\n",
        "print()\n",
        "print('Confusion matrix: \\n',confusion_matrix(y_test,pred))\n",
        "print()\n",
        "print('Accuracy:',accuracy_score(y_test,pred))"
      ],
      "execution_count": null,
      "outputs": [
        {
          "output_type": "stream",
          "text": [
            "              precision    recall  f1-score   support\n",
            "\n",
            "           0       1.00      0.99      0.99       870\n",
            "           1       0.97      1.00      0.98       269\n",
            "\n",
            "    accuracy                           0.99      1139\n",
            "   macro avg       0.98      0.99      0.99      1139\n",
            "weighted avg       0.99      0.99      0.99      1139\n",
            "\n",
            "\n",
            "Confusion matrix: \n",
            " [[862   8]\n",
            " [  1 268]]\n",
            "\n",
            "Accuracy: 0.9920983318700615\n"
          ],
          "name": "stdout"
        }
      ]
    }
  ]
}